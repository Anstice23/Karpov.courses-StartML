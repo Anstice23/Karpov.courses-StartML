{
 "cells": [
  {
   "cell_type": "code",
   "execution_count": null,
   "metadata": {
    "pycharm": {
     "name": "#%%\n",
     "is_executing": true
    }
   },
   "outputs": [],
   "source": [
    "import pandas as pd"
   ]
  },
  {
   "cell_type": "markdown",
   "metadata": {
    "pycharm": {
     "name": "#%% md\n"
    }
   },
   "source": [
    "Загрузим табличку с нашими данными про длительность поездок такси! "
   ]
  },
  {
   "cell_type": "code",
   "execution_count": 5,
   "metadata": {
    "pycharm": {
     "name": "#%%\n"
    }
   },
   "outputs": [
    {
     "data": {
      "text/html": [
       "<div>\n",
       "<style scoped>\n",
       "    .dataframe tbody tr th:only-of-type {\n",
       "        vertical-align: middle;\n",
       "    }\n",
       "\n",
       "    .dataframe tbody tr th {\n",
       "        vertical-align: top;\n",
       "    }\n",
       "\n",
       "    .dataframe thead th {\n",
       "        text-align: right;\n",
       "    }\n",
       "</style>\n",
       "<table border=\"1\" class=\"dataframe\">\n",
       "  <thead>\n",
       "    <tr style=\"text-align: right;\">\n",
       "      <th></th>\n",
       "      <th>vendor_id</th>\n",
       "      <th>pickup_datetime</th>\n",
       "      <th>passenger_count</th>\n",
       "      <th>store_and_fwd_flag</th>\n",
       "      <th>trip_duration</th>\n",
       "      <th>distance_km</th>\n",
       "    </tr>\n",
       "    <tr>\n",
       "      <th>id</th>\n",
       "      <th></th>\n",
       "      <th></th>\n",
       "      <th></th>\n",
       "      <th></th>\n",
       "      <th></th>\n",
       "      <th></th>\n",
       "    </tr>\n",
       "  </thead>\n",
       "  <tbody>\n",
       "    <tr>\n",
       "      <th>id2875421</th>\n",
       "      <td>1</td>\n",
       "      <td>2016-03-14 17:24:55</td>\n",
       "      <td>930.399753</td>\n",
       "      <td>0</td>\n",
       "      <td>455.0</td>\n",
       "      <td>1.500479</td>\n",
       "    </tr>\n",
       "    <tr>\n",
       "      <th>id2377394</th>\n",
       "      <td>0</td>\n",
       "      <td>2016-06-12 00:43:35</td>\n",
       "      <td>930.399753</td>\n",
       "      <td>0</td>\n",
       "      <td>663.0</td>\n",
       "      <td>1.807119</td>\n",
       "    </tr>\n",
       "    <tr>\n",
       "      <th>id3858529</th>\n",
       "      <td>1</td>\n",
       "      <td>2016-01-19 11:35:24</td>\n",
       "      <td>930.399753</td>\n",
       "      <td>0</td>\n",
       "      <td>2124.0</td>\n",
       "      <td>6.392080</td>\n",
       "    </tr>\n",
       "    <tr>\n",
       "      <th>id3504673</th>\n",
       "      <td>1</td>\n",
       "      <td>2016-04-06 19:32:31</td>\n",
       "      <td>930.399753</td>\n",
       "      <td>0</td>\n",
       "      <td>429.0</td>\n",
       "      <td>1.487155</td>\n",
       "    </tr>\n",
       "    <tr>\n",
       "      <th>id2181028</th>\n",
       "      <td>1</td>\n",
       "      <td>2016-03-26 13:30:55</td>\n",
       "      <td>930.399753</td>\n",
       "      <td>0</td>\n",
       "      <td>435.0</td>\n",
       "      <td>1.189925</td>\n",
       "    </tr>\n",
       "  </tbody>\n",
       "</table>\n",
       "</div>"
      ],
      "text/plain": [
       "           vendor_id      pickup_datetime  passenger_count  \\\n",
       "id                                                           \n",
       "id2875421          1  2016-03-14 17:24:55       930.399753   \n",
       "id2377394          0  2016-06-12 00:43:35       930.399753   \n",
       "id3858529          1  2016-01-19 11:35:24       930.399753   \n",
       "id3504673          1  2016-04-06 19:32:31       930.399753   \n",
       "id2181028          1  2016-03-26 13:30:55       930.399753   \n",
       "\n",
       "           store_and_fwd_flag  trip_duration  distance_km  \n",
       "id                                                         \n",
       "id2875421                   0          455.0     1.500479  \n",
       "id2377394                   0          663.0     1.807119  \n",
       "id3858529                   0         2124.0     6.392080  \n",
       "id3504673                   0          429.0     1.487155  \n",
       "id2181028                   0          435.0     1.189925  "
      ]
     },
     "execution_count": 5,
     "metadata": {},
     "output_type": "execute_result"
    }
   ],
   "source": [
    "df = pd.read_csv('taxi_dataset_with_target.csv', index_col=0)\n",
    "\n",
    "df.head()"
   ]
  },
  {
   "cell_type": "markdown",
   "metadata": {
    "pycharm": {
     "name": "#%% md\n"
    }
   },
   "source": [
    "Попробуем построить модель Линейной Регрессии!\n",
    "\n",
    "В качестве Выборки используйте таргетную колонку (*trip_duration*) и все признаки, кроме времени начала заказа (*pickup_datetime*)\n",
    "\n",
    "Для начала воспользуемся \"коробочным решением\". Для этого создайте переменную model, положите в нее класс **LinearRegression** из модуля **linear_model** библиотеки **sklearn**.\n",
    "\n",
    "Далее воспользуйтесь методом **fit**, положите в него через запятую: массив **X**, состоящий из признаков объектов (можно pandas dataframe'ом, а можно numpy-массивом), и массив **Y** с таргетами."
   ]
  },
  {
   "cell_type": "code",
   "execution_count": 6,
   "id": "66b4af78",
   "metadata": {
    "pycharm": {
     "name": "#%%\n"
    }
   },
   "outputs": [],
   "source": [
    "X = df.drop(['trip_duration', 'pickup_datetime'], axis=1)\n",
    "Y = pd.read_csv('Y.csv')"
   ]
  },
  {
   "cell_type": "code",
   "execution_count": 11,
   "metadata": {
    "pycharm": {
     "name": "#%%\n"
    }
   },
   "outputs": [
    {
     "name": "stdout",
     "output_type": "stream",
     "text": [
      "vendor_id 198.463\n",
      "passenger_count 0.296\n",
      "store_and_fwd_flag 56.469\n",
      "distance_km 115.274\n",
      "[171.657]\n"
     ]
    }
   ],
   "source": [
    "from sklearn.linear_model import LinearRegression\n",
    "\n",
    "model = LinearRegression()\n",
    "model.fit(X, Y)\n",
    "\n",
    "\n",
    "for column, coef in zip(X.columns, model.coef_[0].round(3)):\n",
    "    print(column, coef)\n",
    "    \n",
    "print(model.intercept_.round(3))"
   ]
  },
  {
   "cell_type": "markdown",
   "metadata": {
    "pycharm": {
     "name": "#%% md\n"
    }
   },
   "source": [
    "Чтобы посмотреть на значения полученных коэффициентов модели, следует обратиться к атрибуту **coef_** класса линейной регрессии. Для просмотра свободного веса, к атрибуту **intercept_** "
   ]
  },
  {
   "cell_type": "markdown",
   "metadata": {
    "pycharm": {
     "name": "#%% md\n"
    }
   },
   "source": [
    "Теперь реализуйте функцию LinearRegressionByMatrix, которая будет принимать на вход 3 параметра:\n",
    "\n",
    "Матрицу объект-признак **(X)**, вектор с ответами **(Y)**, булевый параметр **fit_intercept**, цель которого - добавить константный признак (состоящий из единичек), если True, и ничего не делать, если False.\n",
    "\n",
    "Функция должна вернуть одномерный np.array объект с оцененными **$\\beta_1, ..., \\beta_n, \\beta_0$**\n",
    "\n",
    "Реализуйте решение через аналитическое решение в матрицах из лекции и практики:\n",
    "\n",
    "$$\n",
    "\\beta^* = (X^T \\cdot X)^{-1} \\cdot X^T \\cdot Y\n",
    "$$"
   ]
  },
  {
   "cell_type": "code",
   "execution_count": 9,
   "metadata": {
    "pycharm": {
     "name": "#%%\n"
    }
   },
   "outputs": [],
   "source": [
    "import numpy as np\n",
    "\n",
    "### Your code is here\n",
    "\n",
    "def LinearRegressionByMatrix(X: np.array, Y: np.array, fit_intercept: bool = True):\n",
    "        onesArr = np.ones((X.shape[0],1))\n",
    "        X = np.concatenate((X, onesArr), axis=1)\n",
    "        \n",
    "        xxt = np.dot(X.T, X)\n",
    "        xxt_inv = np.linalg.inv(xxt)\n",
    "        xxt_inv_xxt = np.dot(xxt_inv, X.T)\n",
    "        final_betas = np.dot(xxt_inv_xxt, Y)\n",
    "\n",
    "        return final_betas.round(3)"
   ]
  },
  {
   "cell_type": "code",
   "execution_count": 10,
   "metadata": {
    "pycharm": {
     "name": "#%%\n"
    }
   },
   "outputs": [
    {
     "data": {
      "text/plain": [
       "array([198.463,   0.296,  56.469, 115.274, 171.657])"
      ]
     },
     "execution_count": 10,
     "metadata": {},
     "output_type": "execute_result"
    }
   ],
   "source": [
    "X_train = df.drop(['trip_duration', 'pickup_datetime'], axis=1).values\n",
    "Y_train = df['trip_duration'].values\n",
    "\n",
    "LinearRegressionByMatrix(X_train, Y_train)"
   ]
  },
  {
   "cell_type": "markdown",
   "metadata": {
    "pycharm": {
     "name": "#%% md\n"
    }
   },
   "source": [
    "Получились ли коэффициенты такими же, как и в \"коробочном\" варианте?\n",
    "\n",
    "Имея коэффициенты модели, можно восстановить предсказания для каждого объекта!\n",
    "\n",
    "Сделайте это через операцию матричного произведения матрицы **X** и полученных коэффициентов (как результат работы *LinearRegressionByMatrix*)"
   ]
  }
 ],
 "metadata": {
  "kernelspec": {
   "display_name": "Python 3",
   "language": "python",
   "name": "python3"
  },
  "language_info": {
   "codemirror_mode": {
    "name": "ipython",
    "version": 3
   },
   "file_extension": ".py",
   "mimetype": "text/x-python",
   "name": "python",
   "nbconvert_exporter": "python",
   "pygments_lexer": "ipython3",
   "version": "3.10.4"
  }
 },
 "nbformat": 4,
 "nbformat_minor": 5
}
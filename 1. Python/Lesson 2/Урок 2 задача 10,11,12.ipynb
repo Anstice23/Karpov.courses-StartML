{
 "cells": [
  {
   "cell_type": "markdown",
   "id": "39cc34a1",
   "metadata": {},
   "source": [
    "Задание 10"
   ]
  },
  {
   "cell_type": "markdown",
   "id": "a6137f5f",
   "metadata": {},
   "source": [
    "В этом задании вам потребуется написать функцию fifth_element, которая берет каждый пятый элемент списка в обратном порядке, начиная с пятого с конца и возвращает ."
   ]
  },
  {
   "cell_type": "code",
   "execution_count": 16,
   "id": "ecdbf508",
   "metadata": {},
   "outputs": [
    {
     "data": {
      "text/plain": [
       "['<', 'K', '/', 'C', '>']"
      ]
     },
     "execution_count": 16,
     "metadata": {},
     "output_type": "execute_result"
    }
   ],
   "source": [
    "def fifth_element(list_1):\n",
    "    return list_1[-5::-5]\n",
    "    \n",
    "fifth_element(['e',6,8,'A','>','^','S','$','R','C',6,'+','#',9,'/',1,'T','!','%','K',7,'-','O','*','<',2,'h',4,'g'])\n"
   ]
  },
  {
   "cell_type": "markdown",
   "id": "ef694331",
   "metadata": {},
   "source": [
    "Задание 11"
   ]
  },
  {
   "cell_type": "markdown",
   "id": "b27e025b",
   "metadata": {},
   "source": [
    "В этом задании потребуется написать функцию process_string, которая приводит строку[1:] к нижнему регистру и заменяет все слова 'intern' на 'junior'."
   ]
  },
  {
   "cell_type": "code",
   "execution_count": 1,
   "id": "3cfbbf70",
   "metadata": {},
   "outputs": [
    {
     "name": "stdout",
     "output_type": "stream",
     "text": [
      "junior reads a lot of books\n"
     ]
    }
   ],
   "source": [
    "def process_string(string):\n",
    "    result = string[1:].lower().replace('intern','junior')\n",
    "    return result\n",
    "\n",
    "print(process_string('IIntern reads a lot of books'))\n"
   ]
  },
  {
   "cell_type": "markdown",
   "id": "d67dd0ff",
   "metadata": {},
   "source": [
    "Задача 12"
   ]
  },
  {
   "cell_type": "markdown",
   "id": "279b14e6",
   "metadata": {},
   "source": [
    "В этом задании необходимо написать функцию check_string, которая сначала проверят наличие лишних символов пробела слева и справа. Если есть лишние пробелы, то тогда мы считаем строку неверной. Затем проверяет, что только первое слово начинается с большой буквы, а остальные с маленькой, и в конце проводит проверку, что последний символ последнего элемента является точкой. Необходимо вернуть логический тип данных."
   ]
  },
  {
   "cell_type": "code",
   "execution_count": 12,
   "id": "4ee2e906",
   "metadata": {},
   "outputs": [
    {
     "name": "stdout",
     "output_type": "stream",
     "text": [
      "True\n",
      "False\n",
      "False\n",
      "False\n"
     ]
    }
   ],
   "source": [
    "def check_string(s):\n",
    "  # если последний или первый элемент равен пробелу,\n",
    "  # то этого уже достаточно, чтобы объявить строку некорректной\n",
    "  if s[0] == \" \" or s[-1] == \" \":\n",
    "    return False\n",
    "  if s[0].islower():   # можно было взять if s[0].islower():\n",
    "    return False\n",
    "  if s[-5].isupper():   # можно было взять if s[0].islower():\n",
    "    return False\n",
    "  if s[-1] != \".\":\n",
    "    return False\n",
    "  return True\n",
    " \n",
    "print (check_string('В этом году будет особенно теплое море.'))\n",
    "print (check_string('В этом году будет особенно теплое Mоре.'))\n",
    "print (check_string('В этом году будет особенно теплое море'))\n",
    "print (check_string(' В этом году будет особенно теплое море'))"
   ]
  }
 ],
 "metadata": {
  "kernelspec": {
   "display_name": "Python 3.10.6 64-bit",
   "language": "python",
   "name": "python3"
  },
  "language_info": {
   "codemirror_mode": {
    "name": "ipython",
    "version": 3
   },
   "file_extension": ".py",
   "mimetype": "text/x-python",
   "name": "python",
   "nbconvert_exporter": "python",
   "pygments_lexer": "ipython3",
   "version": "3.10.6"
  },
  "vscode": {
   "interpreter": {
    "hash": "95cdb06e919eab5e2c554174537356ac9b55200d1eb6f880dc25de04343a18ea"
   }
  }
 },
 "nbformat": 4,
 "nbformat_minor": 5
}

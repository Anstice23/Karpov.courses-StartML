{
 "cells": [
  {
   "cell_type": "markdown",
   "id": "361d9093",
   "metadata": {},
   "source": [
    "Функции — это наш следующий кирпичик в изучении Python. Сами по себе они не сложны, а их изучение здорово окупается: при грамотном использовании функции в разы уменьшают количество кода без ущерба читаемости.\n",
    "\n",
    "Сначала мы попрактикуемся в синтаксисе и создадим простые функции. Далее будем постепенно усложнять примеры, используя продвинутые возможности.\n",
    "\n",
    "Напишите функцию circle_square, которая принимает на вход радиус radius и возвращает (через return) площадь круга. Напомним, что для круга с радиусом r площадь S считается по формуле S=πr \n",
    "2. Считайте π=3.14"
   ]
  },
  {
   "cell_type": "code",
   "execution_count": 1,
   "id": "f0a5c19f",
   "metadata": {},
   "outputs": [
    {
     "data": {
      "text/plain": [
       "1256.0"
      ]
     },
     "execution_count": 1,
     "metadata": {},
     "output_type": "execute_result"
    }
   ],
   "source": [
    "def circle_square (radius):\n",
    "    π = 3.14\n",
    "    S = π * radius **2\n",
    "    return S\n",
    "\n",
    "circle_square(int(input('Введите радиус: ')))\n"
   ]
  }
 ],
 "metadata": {
  "kernelspec": {
   "display_name": "Python 3.10.6 64-bit",
   "language": "python",
   "name": "python3"
  },
  "language_info": {
   "codemirror_mode": {
    "name": "ipython",
    "version": 3
   },
   "file_extension": ".py",
   "mimetype": "text/x-python",
   "name": "python",
   "nbconvert_exporter": "python",
   "pygments_lexer": "ipython3",
   "version": "3.10.6"
  },
  "vscode": {
   "interpreter": {
    "hash": "95cdb06e919eab5e2c554174537356ac9b55200d1eb6f880dc25de04343a18ea"
   }
  }
 },
 "nbformat": 4,
 "nbformat_minor": 5
}

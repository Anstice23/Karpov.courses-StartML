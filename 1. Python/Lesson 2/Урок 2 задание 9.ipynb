{
 "cells": [
  {
   "cell_type": "markdown",
   "id": "dadad0bd",
   "metadata": {},
   "source": [
    "В этом задании Вам понадобится написать функцию find_substr,  которая принимает на вход два аргумента: подстроку (любой длины) и строку, в которой нужно ее искать, и возвращает кортеж, представляющий собой пару [start, stop) первой позиции, где найдено слово."
   ]
  },
  {
   "cell_type": "code",
   "execution_count": 20,
   "id": "fd6b9968",
   "metadata": {},
   "outputs": [
    {
     "name": "stdout",
     "output_type": "stream",
     "text": [
      "(6, 8)\n",
      "(0, 3)\n"
     ]
    }
   ],
   "source": [
    "def find_substr (arg, str_1):\n",
    "    start = str_1.find(arg)\n",
    "    end = len(arg)+start\n",
    "    return (start, end)\n",
    "\n",
    "print(find_substr(\"мы\", \"Летом мы хотим отдыхать на море\"))\n",
    "print(find_substr(\"мал\", \"маленькая машина\"))"
   ]
  }
 ],
 "metadata": {
  "kernelspec": {
   "display_name": "Python 3",
   "language": "python",
   "name": "python3"
  },
  "language_info": {
   "codemirror_mode": {
    "name": "ipython",
    "version": 3
   },
   "file_extension": ".py",
   "mimetype": "text/x-python",
   "name": "python",
   "nbconvert_exporter": "python",
   "pygments_lexer": "ipython3",
   "version": "3.8.8"
  }
 },
 "nbformat": 4,
 "nbformat_minor": 5
}

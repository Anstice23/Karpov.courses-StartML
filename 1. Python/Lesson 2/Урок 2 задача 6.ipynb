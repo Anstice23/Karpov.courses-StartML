{
 "cells": [
  {
   "cell_type": "markdown",
   "id": "7b815fdc",
   "metadata": {},
   "source": [
    "На практике часто приходится иметь дело с данными из непроверенных источников. Эти данные могут быть неправильного формата, неправильного типа, «не читаться» и т.д. Помимо этого нашей программе может понадобиться выходить в Сеть за некоторыми данными (а Сеть ведь может быть недоступна) или подключаться к базе данных (а база данных может отказаться нас обслуживать).\n",
    "\n",
    "Все эти моменты могут сломать нашу программу. С ошибками Сети и баз данных мы научимся работать чуть позже. Пока будем учиться обрабатывать исключения в простых программах :)\n",
    "\n",
    "Напишите функцию sum_as_ints, которая принимает на вход список из строк, пытается привести их к целому числу через int(element) и считает сумму. Список может содержать любые данные, но если они не приводятся через int(element), то программа должна их отбросить."
   ]
  },
  {
   "cell_type": "code",
   "execution_count": 1,
   "id": "3868a701",
   "metadata": {},
   "outputs": [
    {
     "name": "stdout",
     "output_type": "stream",
     "text": [
      "Все хорошо\n"
     ]
    }
   ],
   "source": [
    "def reversed_(array):\n",
    "    return array[::-1]\n",
    "\n",
    "if reversed_(reversed_([1, 2, 3])) == [1, 2, 3]:\n",
    "    print(\"Все хорошо\")\n",
    "else:\n",
    "    raise RuntimeError(\"Ошибка, после обращения дважды не получается исходный массив!\")\n",
    "\n",
    "    "
   ]
  },
  {
   "cell_type": "code",
   "execution_count": 2,
   "id": "7b8d939d",
   "metadata": {},
   "outputs": [
    {
     "name": "stdout",
     "output_type": "stream",
     "text": [
      "Все хорошо\n"
     ]
    }
   ],
   "source": [
    "def reversed_(array):\n",
    "    return array[::-1]\n",
    "\n",
    "arr = [1, 2, 3]\n",
    "if reversed_(reversed_(arr)) == arr:\n",
    "    print(\"Все хорошо\")\n",
    "else:\n",
    "    print(arr)\n",
    "    raise RuntimeError(\"Ошибка, после обращения дважды не получается исходный массив!\")\n"
   ]
  }
 ],
 "metadata": {
  "kernelspec": {
   "display_name": "Python 3.10.6 64-bit",
   "language": "python",
   "name": "python3"
  },
  "language_info": {
   "codemirror_mode": {
    "name": "ipython",
    "version": 3
   },
   "file_extension": ".py",
   "mimetype": "text/x-python",
   "name": "python",
   "nbconvert_exporter": "python",
   "pygments_lexer": "ipython3",
   "version": "3.10.6"
  },
  "vscode": {
   "interpreter": {
    "hash": "95cdb06e919eab5e2c554174537356ac9b55200d1eb6f880dc25de04343a18ea"
   }
  }
 },
 "nbformat": 4,
 "nbformat_minor": 5
}

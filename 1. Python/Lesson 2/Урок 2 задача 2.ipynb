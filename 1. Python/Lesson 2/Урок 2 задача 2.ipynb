{
 "cells": [
  {
   "cell_type": "markdown",
   "id": "c3256875",
   "metadata": {},
   "source": [
    "Напишите функцию zip_, которая принимает на вход два списка и «сшивает» их следующим образом, например:\n",
    "\n",
    "Списки [1, 5, 3, 8, 35] и [2, 7, 9] превратятся в [(1, 2), (5, 7), (3, 9)], т. е. сначала берутся первые элементы первого и второго списков и собираются в кортеж, затем вторые элементы первого и второго списков и собираются в кортеж и т. д., пока не дошли до конца самого короткого списка. \n",
    "\n",
    "На выходе функция должна возвращать (return) «сшитый» список. Вам понадобится использовать цикл."
   ]
  },
  {
   "cell_type": "code",
   "execution_count": 1,
   "id": "b89f718b",
   "metadata": {},
   "outputs": [
    {
     "name": "stdout",
     "output_type": "stream",
     "text": [
      "[(1, 2), (5, 7), (3, 9)]\n"
     ]
    }
   ],
   "source": [
    "list_1 = [1, 5, 3, 8, 35]\n",
    "list_2 = [2, 7, 9]\n",
    "\n",
    "def zip_(arg_1, arg_2):\n",
    "    return [(arg_1[i], arg_2[i])\n",
    "    for i in range(len(sorted((arg_1, arg_2), key=len)[0]))]\n",
    "    \n",
    "list_3 = zip_(list_1,list_2)\n",
    "\n",
    "print(list_3)"
   ]
  }
 ],
 "metadata": {
  "kernelspec": {
   "display_name": "Python 3.10.6 64-bit",
   "language": "python",
   "name": "python3"
  },
  "language_info": {
   "codemirror_mode": {
    "name": "ipython",
    "version": 3
   },
   "file_extension": ".py",
   "mimetype": "text/x-python",
   "name": "python",
   "nbconvert_exporter": "python",
   "pygments_lexer": "ipython3",
   "version": "3.10.6"
  },
  "vscode": {
   "interpreter": {
    "hash": "95cdb06e919eab5e2c554174537356ac9b55200d1eb6f880dc25de04343a18ea"
   }
  }
 },
 "nbformat": 4,
 "nbformat_minor": 5
}

{
 "cells": [
  {
   "cell_type": "markdown",
   "id": "f4b4c39b",
   "metadata": {},
   "source": [
    "Мы будем итерироваться по ключам словаря tasks, брать задания оттуда и по одному добавлять их в список answer. Вот только мы хотим уберечь себя от большого количества задач, поэтому в процессе будем проверять, не взяли ли мы уже на себя слишком много работы.\n",
    "\n",
    "Сегодня мы ленимся, поэтому готовы взять только самые срочные задания. Конкретно — только те, приоритет которых меньше двух.\n",
    "\n",
    "Если длина списка answer достигает двух, то мы решаем, что дел на сегодня уже достаточно, и прерываем выполнение цикла. И еще важный момент — в список нужно добавлять только задачи в которых содержится подстрока \"кот\". \n",
    "\n",
    "В конце должна быть заполненная переменная answer, в которой лежат задачи (не списки задач), полученные по алгоритму выше. "
   ]
  },
  {
   "cell_type": "code",
   "execution_count": 3,
   "id": "adbb859c",
   "metadata": {},
   "outputs": [
    {
     "name": "stdout",
     "output_type": "stream",
     "text": [
      "['Покормить кота']\n"
     ]
    }
   ],
   "source": [
    "tasks = {\n",
    "    1: ['Полить цветы', 'Забрать посылку'], \n",
    "    0: ['Покормить кота'], \n",
    "    2: ['Почитать книгу по программированию'], \n",
    "    3: ['Ответить на письмо двоюродной тети']\n",
    "}\n",
    "\n",
    "answer = []\n",
    "for key, value in tasks.items():\n",
    "    if key < 2:\n",
    "        answer += value\n",
    "        answer = list(filter(lambda i: 'кот' in i, value))\n",
    "        if len(answer) >= 2:\n",
    "            break\n",
    "\n",
    "print (answer)"
   ]
  }
 ],
 "metadata": {
  "kernelspec": {
   "display_name": "Python 3.10.6 64-bit",
   "language": "python",
   "name": "python3"
  },
  "language_info": {
   "codemirror_mode": {
    "name": "ipython",
    "version": 3
   },
   "file_extension": ".py",
   "mimetype": "text/x-python",
   "name": "python",
   "nbconvert_exporter": "python",
   "pygments_lexer": "ipython3",
   "version": "3.10.6"
  },
  "vscode": {
   "interpreter": {
    "hash": "95cdb06e919eab5e2c554174537356ac9b55200d1eb6f880dc25de04343a18ea"
   }
  }
 },
 "nbformat": 4,
 "nbformat_minor": 5
}

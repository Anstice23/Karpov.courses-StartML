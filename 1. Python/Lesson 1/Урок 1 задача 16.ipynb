{
 "cells": [
  {
   "cell_type": "markdown",
   "id": "831ac0cb",
   "metadata": {},
   "source": [
    "Последняя неделя выдалась тяжелой, и вам постоянно приходилось в спешке добавлять в записную книжку новые задачи. Теперь одна и та же задача в вашей книжке может дублироваться! Дедлайны вовсю бьют, поэтому вы готовы садиться за задачи без разбора их порядка.\n",
    "\n",
    "Вам дан словарь с задачами tasks. Пройдитесь по всем ключам и устраните дублирование только в рамках значений, соответствующих одному ключу. Создайте новый словарь new_tasks, в котором будут те же ключи и те же задачи, но уже без дублей."
   ]
  },
  {
   "cell_type": "code",
   "execution_count": 1,
   "id": "4ddf79d8",
   "metadata": {},
   "outputs": [
    {
     "name": "stdout",
     "output_type": "stream",
     "text": [
      "{0: ['Забрать посылку', 'Покормить кота'], 1: ['Забрать посылку', 'Покормить кота']}\n"
     ]
    }
   ],
   "source": [
    "tasks = { \n",
    "    0: [\"Покормить кота\",\"Покормить кота\", \"Забрать посылку\"],\n",
    "    1: [\"Покормить кота\", \"Забрать посылку\", \"Забрать посылку\"]\n",
    "}\n",
    "new_tasks = {}\n",
    "for i in tasks:\n",
    "    new_tasks[i] = list(set(tasks[i]))\n",
    "print (new_tasks)"
   ]
  }
 ],
 "metadata": {
  "kernelspec": {
   "display_name": "Python 3.10.6 64-bit",
   "language": "python",
   "name": "python3"
  },
  "language_info": {
   "codemirror_mode": {
    "name": "ipython",
    "version": 3
   },
   "file_extension": ".py",
   "mimetype": "text/x-python",
   "name": "python",
   "nbconvert_exporter": "python",
   "pygments_lexer": "ipython3",
   "version": "3.10.6"
  },
  "vscode": {
   "interpreter": {
    "hash": "95cdb06e919eab5e2c554174537356ac9b55200d1eb6f880dc25de04343a18ea"
   }
  }
 },
 "nbformat": 4,
 "nbformat_minor": 5
}

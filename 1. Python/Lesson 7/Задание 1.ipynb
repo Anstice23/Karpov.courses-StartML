{
 "cells": [
  {
   "cell_type": "markdown",
   "metadata": {},
   "source": [
    "Напишите класс Triangle, который будет иметь 3 поля: a, b, c (стороны треугольника) и n_dots = 3 (количество точек). Поле n_dots объявите на уровне класса, не в конструкторе — чтобы оно было доступно без создания объекта (т.е. работал вызов Triangle.n_dots). Добавьте в класс простой конструктор, принимающий на вход все три стороны и сохраняющий эти стороны в соответсвующие поля класса.\n",
    "\n",
    "Создайте объекты этого класса со следующими названиями: tr_1, tr_2 и любыми значениями длин сторон."
   ]
  },
  {
   "cell_type": "code",
   "execution_count": 117,
   "metadata": {},
   "outputs": [
    {
     "name": "stdout",
     "output_type": "stream",
     "text": [
      "20.784396211179303\n",
      "26.999993933147465\n"
     ]
    }
   ],
   "source": [
    "class Triangle:\n",
    "    a = ''\n",
    "    b = ''\n",
    "    c = ''\n",
    "    n_dots = 3\n",
    "    def __init__(self, a: int, b: int, c: int):\n",
    "        self.a, self.b, self.c = a, b, c  \n",
    "        if a > (b+c) or b > (a+c) or c > (a+b):\n",
    "            raise ValueError (\"triangle inequality does not hold\" )\n",
    "    def area(self):\n",
    "        p = 0.5*(self.a+self.b+self.c)\n",
    "        return (p*(p-self.a)*(p-self.b)*(p-self.c))**0.5\n",
    "    \n",
    "tr_1 = Triangle(6, 8, 7.211)\n",
    "tr_2 = Triangle(6, 9, 10.82)\n",
    "square_1  = tr_1.area()\n",
    "square_2  = tr_2.area()\n",
    "print(square_1)\n",
    "print(square_2)\n"
   ]
  }
 ],
 "metadata": {
  "interpreter": {
   "hash": "4291b653e0b43f8798eae1c14f4b7af9aef3a0266aad223795cfaaa7b5a19c6b"
  },
  "kernelspec": {
   "display_name": "Python 3.10.4 64-bit (windows store)",
   "language": "python",
   "name": "python3"
  },
  "language_info": {
   "codemirror_mode": {
    "name": "ipython",
    "version": 3
   },
   "file_extension": ".py",
   "mimetype": "text/x-python",
   "name": "python",
   "nbconvert_exporter": "python",
   "pygments_lexer": "ipython3",
   "version": "3.10.4"
  },
  "orig_nbformat": 4
 },
 "nbformat": 4,
 "nbformat_minor": 2
}

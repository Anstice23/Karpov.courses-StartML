{
 "cells": [
  {
   "cell_type": "markdown",
   "metadata": {},
   "source": [
    "Возьмите классы Triangle и Rectangle из прошлого задания.\n",
    "\n",
    "Переопределите метод area в каждом случае.\n",
    "Переопределите конструктор в каждом случае (число аргументов тоже меняется). Не забудьте в конструкторе дочернего класса вызвать конструктор родительского класса!\n",
    "Переопределите метод validate в каждом случае. Метод validate должен принимать только аргумент self и использовать созданные в конструкторе переменные. Для этого вы можете сначала сохранять в конструкторе входные данные в self.переменная, а затем вызывать конструктор суперкласса. Для Triangle данный метод должен проверять неравенство треугольника и выбрасывать ошибку ValueError(\"triangle inequality does not hold\") либо возвращать значения сторон. Для Rectangle данный метод должен возвращать значения сторон.\n",
    "В итоге вы получите два класса, которые построены по схожему шаблону. Этот общий шаблон был задан в классе BaseFigure. Создайте несколько объектов этих классов и попробуйте вызвать у них .area(), .validate(). Если вы пользуетесь IDE, то увидите интерактивные подсказки: она скажет, что такие методы есть и что эти методы перегружают (overload) методы из родительского класса. При этом вызов методов будет работать коррректно."
   ]
  },
  {
   "cell_type": "code",
   "execution_count": 37,
   "metadata": {},
   "outputs": [],
   "source": [
    "class BaseFigure:\n",
    "    n_dots = None\n",
    "    def area(self):\n",
    "        raise NotImplementedError(\"Subclasses should implement this!\") \n",
    "    def validate(self):\n",
    "        raise NotImplementedError(\"Subclasses should implement this!\") \n",
    "    def __init__(self):\n",
    "        self.validate()\n",
    "\n",
    "        \n",
    "class Triangle(BaseFigure):\n",
    "    n_dots = 3\n",
    "    def __init__(self, a: int, b: int, c: int):\n",
    "        self.a, self.b, self.c = a, b, c \n",
    "        super().__init__()\n",
    "        if a > (b+c) or b > (a+c) or c > (a+b):\n",
    "            raise ValueError (\"triangle inequality does not hold\" )\n",
    "    def area(self):\n",
    "        p = 0.5*(self.a+self.b+self.c)\n",
    "        return (p*(p-self.a)*(p-self.b)*(p-self.c))**0.5\n",
    "    def validate(self):\n",
    "        print (self.a, self.b, self.c)\n",
    "        \n",
    "class Rectangle (BaseFigure):\n",
    "    n_dots = 4    \n",
    "    def __init__(self, a: int, b: int):\n",
    "        self.a, self.b = a, b \n",
    "        super().__init__()\n",
    "    def area(self):\n",
    "        return (self.a*self.b)\n",
    "    def validate(self):\n",
    "        print (self.a, self.b)\n"
   ]
  }
 ],
 "metadata": {
  "interpreter": {
   "hash": "4291b653e0b43f8798eae1c14f4b7af9aef3a0266aad223795cfaaa7b5a19c6b"
  },
  "kernelspec": {
   "display_name": "Python 3.10.4 64-bit (windows store)",
   "language": "python",
   "name": "python3"
  },
  "language_info": {
   "codemirror_mode": {
    "name": "ipython",
    "version": 3
   },
   "file_extension": ".py",
   "mimetype": "text/x-python",
   "name": "python",
   "nbconvert_exporter": "python",
   "pygments_lexer": "ipython3",
   "version": "3.10.4"
  },
  "orig_nbformat": 4
 },
 "nbformat": 4,
 "nbformat_minor": 2
}

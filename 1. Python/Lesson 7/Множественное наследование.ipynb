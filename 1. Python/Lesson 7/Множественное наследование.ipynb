{
 "cells": [
  {
   "cell_type": "markdown",
   "metadata": {},
   "source": [
    "Напишите классы ParsesCookies, ParsesBody, ParsesHeaders по условиям:\n",
    "\n",
    "Класс ParsesCookies имеет метод cookies(), возвращающий все по ключу cookies из словаря self.request.\n",
    "Класс ParsesCookies имеет метод is_authed(), который будет проверять, что в словаре cookies будет ключ auth_key (ни в коем случае не используйте такую авторизацию в реальных проектах).\n",
    "Класс ParsesBody имеет метод body(), возвращающий текст по ключу body в self.request.\n",
    "Класс ParsesHeaders имеет метод headers(), возвращающий все по ключу headers из словаря self.request.\n",
    "Класс ParsesHeaders имеет метод need_json(), который возвращает True, если в headers по ключу \"content-type\" лежит значение \"application/json\", иначе False.\n"
   ]
  },
  {
   "cell_type": "code",
   "execution_count": 37,
   "metadata": {},
   "outputs": [],
   "source": [
    "request = {\n",
    "    \"cookies\": {'key_1': 'value_1', 'key_2': 'value_2'},\n",
    "    \"body\": \"a long time ago, in a Galaxy far, far away\",\n",
    "    \"headers\": {\"content-type\": \"application/json\", \"Accept\": \"application/json\"}\n",
    "}"
   ]
  },
  {
   "cell_type": "code",
   "execution_count": null,
   "metadata": {},
   "outputs": [],
   "source": [
    "class ParsesCookies:\n",
    "    def cookies(self):\n",
    "        return self.request['cookies']\n",
    "    \n",
    "    def is_authed(self):\n",
    "        return 'auth_key' in self.cookies()\n",
    "    \n",
    "class ParsesBody:\n",
    "    def body(self):\n",
    "        return self.request['body']\n",
    "    \n",
    "class ParsesHeaders:\n",
    "    def headers(self):\n",
    "        return self.request['headers']\n",
    "    \n",
    "    def need_json(self):\n",
    "        return self.headers().get('content-type') == 'application/json'"
   ]
  },
  {
   "cell_type": "markdown",
   "metadata": {},
   "source": [
    "Используя миксины из прошлого пункта, напишите класс JsonHandler, который будет наследоваться от классов ParsesBody и ParsesHeaders , иметь метод process() и конструктор, принимающий аргумент request и сохраняющий в self.request. В этом задании нужно использовать библиотеку json.\n",
    "\n",
    "Метод process() должен работать следующим образом:\n",
    "\n",
    "Если need_json() дает False, то возвращать None\n",
    "Иначе получать тело через body(), пытаться считать его как json.loads(...) и возвращать число ключей в словаре. Если считать не удалось, то вернуть None."
   ]
  },
  {
   "cell_type": "code",
   "execution_count": null,
   "metadata": {},
   "outputs": [],
   "source": [
    "import json\n",
    "\n",
    "class JsonHandler(ParsesBody, ParsesHeaders):\n",
    "    def __init__(self, request):\n",
    "        self.request = request\n",
    "\n",
    "    def process(self):\n",
    "        if not self.need_json():\n",
    "            return None\n",
    "        try:\n",
    "            return len(json.loads(self.body()))\n",
    "        except:  \n",
    "            return None"
   ]
  },
  {
   "cell_type": "markdown",
   "metadata": {},
   "source": [
    "Используя миксины из прошлого пункта, напишите класс SecureTextHandler, который будет наследоваться от классов ParsesBody, ParsesHeaders и ParsesCookies , иметь метод process() и конструктор, принимающий один аргумент и сохраняющий его в нужное поле класса.\n",
    "\n",
    "Метод process() должен работать следующим образом:\n",
    "\n",
    "Если is_authed() дает False, то возвращать None.\n",
    "Иначе получать тело через body() и возвращать его длину."
   ]
  },
  {
   "cell_type": "code",
   "execution_count": null,
   "metadata": {},
   "outputs": [],
   "source": [
    "class SecureTextHandler(ParsesBody, ParsesCookies):\n",
    "    def __init__(self, request):\n",
    "        self.request = request\n",
    "        \n",
    "    def process(self):\n",
    "        if not self.is_authed():\n",
    "            return None\n",
    "        return len(self.body())"
   ]
  }
 ],
 "metadata": {
  "interpreter": {
   "hash": "4291b653e0b43f8798eae1c14f4b7af9aef3a0266aad223795cfaaa7b5a19c6b"
  },
  "kernelspec": {
   "display_name": "Python 3.10.4 64-bit (windows store)",
   "language": "python",
   "name": "python3"
  },
  "language_info": {
   "codemirror_mode": {
    "name": "ipython",
    "version": 3
   },
   "file_extension": ".py",
   "mimetype": "text/x-python",
   "name": "python",
   "nbconvert_exporter": "python",
   "pygments_lexer": "ipython3",
   "version": "3.10.4"
  },
  "orig_nbformat": 4
 },
 "nbformat": 4,
 "nbformat_minor": 2
}

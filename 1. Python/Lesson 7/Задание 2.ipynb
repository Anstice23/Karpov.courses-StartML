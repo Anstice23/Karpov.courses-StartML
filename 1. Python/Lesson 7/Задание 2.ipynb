{
 "cells": [
  {
   "cell_type": "markdown",
   "metadata": {},
   "source": [
    "Возьмите класс Triangle из предыдущего задания и добавьте метод area(), возвращающий площадь треугольника. Напомним, что при известных трех сторонах площадь треугольника можно подсчитать по формуле Герона: S= \n",
    "p(p−a)(p−b)(p−c)\n",
    "​\n",
    " , где p= \n",
    "2\n",
    "1\n",
    "​\n",
    " (a+b+c) - полупериметр. Подумайте, как можно организовать код так, чтобы p считалась один раз.\n",
    "\n",
    "Затем поменяйте конструктор: он должен проверять, что выполнено неравенство треугольника - каждая сторона меньше или равна сумме двух других. Если это условие не выполнено, выбрасывайте ValueError с текстом \"triangle inequality does not hold\" (передайте эту строку в конструктор ValueError).\n",
    "\n",
    "Наконец, создайте два объекта данного класса с названиями tr_1 и tr_2 , в которых соблюдается равенство треугольника. Также, сохраните в переменные square_1 и square_2 результаты вызовов методов .area() для объектов tr_1 и tr_2 соответственно."
   ]
  },
  {
   "cell_type": "code",
   "execution_count": 17,
   "metadata": {},
   "outputs": [
    {
     "name": "stdout",
     "output_type": "stream",
     "text": [
      "4\n",
      "48\n",
      "54\n"
     ]
    }
   ],
   "source": [
    "class Triangle:\n",
    "    n_dots = 3\n",
    "    def __init__(self, a: int, b: int, c: int):\n",
    "        self.a, self.b, self.c = a, b, c \n",
    "        if a > (b+c) or b > (a+c) or c > (a+b):\n",
    "            raise ValueError (\"triangle inequality does not hold\" )\n",
    "    def area(self):\n",
    "        p = 0.5*(self.a+self.b+self.c)\n",
    "        return (p*(p-self.a)*(p-self.b)*(p-self.c))**0.5\n",
    "\n",
    "class Rectangle (Triangle):\n",
    "    def __init__(self, a: int, b: int):\n",
    "        self.a, self.b = a, b \n",
    "    def area(self):\n",
    "        return (self.a*self.b)\n",
    "    n_dots = 4\n",
    "    \n",
    "print(Rectangle.n_dots)    \n",
    "tr_1 = Rectangle(6, 8)\n",
    "tr_2 = Rectangle(6, 9)\n",
    "square_1  = tr_1.area()\n",
    "square_2  = tr_2.area()\n",
    "print(square_1)\n",
    "print(square_2)"
   ]
  }
 ],
 "metadata": {
  "interpreter": {
   "hash": "4291b653e0b43f8798eae1c14f4b7af9aef3a0266aad223795cfaaa7b5a19c6b"
  },
  "kernelspec": {
   "display_name": "Python 3.10.4 64-bit (windows store)",
   "language": "python",
   "name": "python3"
  },
  "language_info": {
   "codemirror_mode": {
    "name": "ipython",
    "version": 3
   },
   "file_extension": ".py",
   "mimetype": "text/x-python",
   "name": "python",
   "nbconvert_exporter": "python",
   "pygments_lexer": "ipython3",
   "version": "3.10.4"
  },
  "orig_nbformat": 4
 },
 "nbformat": 4,
 "nbformat_minor": 2
}

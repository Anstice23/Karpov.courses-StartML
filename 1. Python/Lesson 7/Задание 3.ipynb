{
 "cells": [
  {
   "cell_type": "markdown",
   "metadata": {},
   "source": [
    "Создайте класс Rectangle (прямоугольник), который будет наследоваться от класса Triangle. Сделайте так, чтобы area(), конструктор и поле n_dots были верными. А именно:\n",
    "\n",
    "Конструктор должен принимать 2 стороны: a, b\n",
    "area() должен считать площадь как произведение смежных сторон: S=ab\n",
    "Неравенство треугольника не нужно проверять.\n",
    "n_dots должен быть объявлен на уровне класса и равняться 4."
   ]
  },
  {
   "cell_type": "code",
   "execution_count": 2,
   "metadata": {},
   "outputs": [],
   "source": [
    "class Triangle:\n",
    "    a = ''\n",
    "    b = ''\n",
    "    c = ''\n",
    "    n_dots = 3\n",
    "    def __init__(self, a: int, b: int, c: int):\n",
    "        self.a, self.b, self.c = a, b, c  \n",
    "        if a > (b+c) or b > (a+c) or c > (a+b):\n",
    "            raise ValueError (\"triangle inequality does not hold\" )\n",
    "    def area(self):\n",
    "        p = 0.5*(self.a+self.b+self.c)\n",
    "        return (p*(p-self.a)*(p-self.b)*(p-self.c))**0.5\n",
    "\n",
    "class Rectangle (Triangle):\n",
    "    def __init__(self, a: int, b: int):\n",
    "        self.a, self.b = a, b \n",
    "    def area(self):\n",
    "        return (self.a*self.b)\n",
    "    n_dots = 4"
   ]
  }
 ],
 "metadata": {
  "kernelspec": {
   "display_name": "Python 3.10.6 64-bit",
   "language": "python",
   "name": "python3"
  },
  "language_info": {
   "codemirror_mode": {
    "name": "ipython",
    "version": 3
   },
   "file_extension": ".py",
   "mimetype": "text/x-python",
   "name": "python",
   "nbconvert_exporter": "python",
   "pygments_lexer": "ipython3",
   "version": "3.10.6"
  },
  "orig_nbformat": 4,
  "vscode": {
   "interpreter": {
    "hash": "95cdb06e919eab5e2c554174537356ac9b55200d1eb6f880dc25de04343a18ea"
   }
  }
 },
 "nbformat": 4,
 "nbformat_minor": 2
}

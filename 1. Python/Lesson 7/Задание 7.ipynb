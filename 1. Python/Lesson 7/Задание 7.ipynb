{
 "cells": [
  {
   "cell_type": "markdown",
   "metadata": {},
   "source": [
    "Попробуем собрать совершенно новый класс, используя BaseFigure в качестве шаблона.\n",
    "\n",
    "Напишите класс Circle, в котором в качестве n_dots будет float('inf'), area будет считаться как 3.14 * r^2, а конструктор будет принимать только один аргумент - r. Метод validate не должен принимать никаких аргументов и не должен осуществлять никаких проверок."
   ]
  },
  {
   "cell_type": "code",
   "execution_count": 60,
   "metadata": {},
   "outputs": [
    {
     "data": {
      "text/plain": [
       "113.04"
      ]
     },
     "execution_count": 60,
     "metadata": {},
     "output_type": "execute_result"
    }
   ],
   "source": [
    "class BaseFigure:\n",
    "    n_dots = None\n",
    "    def area(self):\n",
    "        raise NotImplementedError(\"Subclasses should implement this!\") \n",
    "    def validate(self):\n",
    "        raise NotImplementedError(\"Subclasses should implement this!\") \n",
    "    def __init__(self):\n",
    "        self.validate()\n",
    "            \n",
    "class Circle (BaseFigure):\n",
    "    n_dots = float('inf')    \n",
    "    def __init__(self, r: int):\n",
    "        self.r = r \n",
    "        super().__init__()\n",
    "    def area(r: int):\n",
    "        s = 3.14 * (r ** 2)\n",
    "        return s\n",
    "    def validate(self):\n",
    "        pass\n",
    "\n",
    "\n",
    "# r = 3\n",
    "square_1  = Circle.area(6)\n",
    "square_1\n"
   ]
  }
 ],
 "metadata": {
  "interpreter": {
   "hash": "4291b653e0b43f8798eae1c14f4b7af9aef3a0266aad223795cfaaa7b5a19c6b"
  },
  "kernelspec": {
   "display_name": "Python 3.10.4 64-bit (windows store)",
   "language": "python",
   "name": "python3"
  },
  "language_info": {
   "codemirror_mode": {
    "name": "ipython",
    "version": 3
   },
   "file_extension": ".py",
   "mimetype": "text/x-python",
   "name": "python",
   "nbconvert_exporter": "python",
   "pygments_lexer": "ipython3",
   "version": "3.10.4"
  },
  "orig_nbformat": 4
 },
 "nbformat": 4,
 "nbformat_minor": 2
}

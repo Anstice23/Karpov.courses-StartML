{
 "cells": [
  {
   "cell_type": "markdown",
   "id": "e0ad2332",
   "metadata": {},
   "source": [
    "Напишите класс Vector, который на вход будет принимать список координат. Положите все координаты вектора в список self.coords.\n",
    "Добавьте методу красивый вывод при передаче его в print(...)\n",
    "Продолжаем улучшать вектор. Добавьте в класс возможность умножать вектор на вектор и вектор на число. Не забудьте сохранять координаты вектора в self.coords\n",
    "Последние штрихи для нашего вектора.\n",
    "\n",
    "Добавьте в класс возможности сравнивать два вектора между собой и считать abs (это длина вектора, в Евклидовой метрике)."
   ]
  },
  {
   "cell_type": "code",
   "execution_count": 59,
   "id": "7a02588d",
   "metadata": {},
   "outputs": [
    {
     "name": "stdout",
     "output_type": "stream",
     "text": [
      "13.0\n"
     ]
    },
    {
     "data": {
      "text/plain": [
       "True"
      ]
     },
     "execution_count": 59,
     "metadata": {},
     "output_type": "execute_result"
    }
   ],
   "source": [
    "class Vector:\n",
    "    def __init__(self,coords):\n",
    "        self.coords=list(coords)\n",
    "        \n",
    "    def __add__(self, other):\n",
    "        if len(self.coords)!=len(other.coords):\n",
    "            raise ValueError(f'left and right lengths differ: {len(self.coords)} != {len(other.coords)}')\n",
    "        else:\n",
    "            return Vector([i+j for i, j in zip(self.coords,other.coords)])\n",
    "        \n",
    "    def __mul__(self, other):\n",
    "        if isinstance(other, int):\n",
    "            return Vector(a * other for a in (self.coords))         \n",
    "        else:  \n",
    "            if isinstance(other, Vector):\n",
    "                if len(self.coords)!=len(other.coords):\n",
    "                    raise ValueError(f'left and right lengths differ: {len(self.coords)} != {len(other.coords)}')\n",
    "                else:\n",
    "                    return sum(a * b for a, b in zip(self.coords, other.coords))   \n",
    "    \n",
    "    def __abs__ (self):\n",
    "        return abs (sum(a * a for a in (self.coords))**0.5)\n",
    "    \n",
    "    def __eq__ (self, other):\n",
    "        return self.coords == other.coords   \n",
    "\n",
    "    def __repr__(self):\n",
    "        return f'{self.coords}'\n",
    "    \n",
    "print(abs(Vector([-12, 5])))\n",
    "Vector([1, 3, 5]) == Vector([1, 3, 5])  # True\n"
   ]
  }
 ],
 "metadata": {
  "kernelspec": {
   "display_name": "Python 3.10.6 64-bit",
   "language": "python",
   "name": "python3"
  },
  "language_info": {
   "codemirror_mode": {
    "name": "ipython",
    "version": 3
   },
   "file_extension": ".py",
   "mimetype": "text/x-python",
   "name": "python",
   "nbconvert_exporter": "python",
   "pygments_lexer": "ipython3",
   "version": "3.10.6"
  },
  "vscode": {
   "interpreter": {
    "hash": "95cdb06e919eab5e2c554174537356ac9b55200d1eb6f880dc25de04343a18ea"
   }
  }
 },
 "nbformat": 4,
 "nbformat_minor": 5
}
